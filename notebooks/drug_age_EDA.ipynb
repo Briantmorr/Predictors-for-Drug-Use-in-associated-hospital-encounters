{
 "cells": [
  {
   "cell_type": "code",
   "execution_count": null,
   "metadata": {},
   "outputs": [],
   "source": [
    "import pandas as pd\n",
    "import numpy as np\n",
    "import matplotlib.pyplot as plt\n",
    "import seaborn as sns\n",
    "\n",
    "from src.helpers import multivariant_analysis, load_csv\n",
    "\n",
    "\n",
    "FILENAME = \"drug_age.csv\"\n",
    "filepath = f\"../data/{FILENAME}\""
   ]
  },
  {
   "cell_type": "code",
   "execution_count": null,
   "metadata": {},
   "outputs": [],
   "source": [
    "drug_age_df = load_csv(filepath)"
   ]
  },
  {
   "cell_type": "code",
   "execution_count": null,
   "metadata": {},
   "outputs": [],
   "source": [
    "drug_age_df.info()"
   ]
  },
  {
   "cell_type": "code",
   "execution_count": null,
   "metadata": {},
   "outputs": [],
   "source": [
    "drug_age_df.describe()"
   ]
  },
  {
   "cell_type": "code",
   "execution_count": null,
   "metadata": {},
   "outputs": [],
   "source": [
    "multivariant_analysis(drug_age_df, 'age', 'kde')"
   ]
  },
  {
   "cell_type": "code",
   "execution_count": null,
   "metadata": {},
   "outputs": [],
   "source": [
    "multivariant_analysis(drug_age_df, 'age', 'hist')"
   ]
  },
  {
   "cell_type": "code",
   "execution_count": null,
   "metadata": {},
   "outputs": [],
   "source": [
    "info_columns_to_exclude = ['age', 'setting', 'time', 'start_time', 'end_time']\n",
    "for col in drug_age_df.columns:\n",
    "    if col not in info_columns_to_exclude:\n",
    "        print(col)\n",
    "        plt.figure(figsize=(14, 7))\n",
    "        sns.lineplot(data=drug_age_df, x='time', y=col, hue='age')\n",
    "        title = f\"Change in Drug Use ({col}) by Age Over Time\"\n",
    "        plt.title(title)\n",
    "        plt.ylabel('Percentage')\n",
    "        plt.xlabel('Time')\n",
    "        plt.show()"
   ]
  },
  {
   "cell_type": "code",
   "execution_count": null,
   "metadata": {},
   "outputs": [],
   "source": [
    "drug_age_df[drug_age_df.time == 3].head(50)"
   ]
  },
  {
   "cell_type": "code",
   "execution_count": null,
   "metadata": {},
   "outputs": [],
   "source": []
  }
 ],
 "metadata": {
  "kernelspec": {
   "display_name": "Python 3 (ipykernel)",
   "language": "python",
   "name": "python3"
  }
 },
 "nbformat": 4,
 "nbformat_minor": 2
}
