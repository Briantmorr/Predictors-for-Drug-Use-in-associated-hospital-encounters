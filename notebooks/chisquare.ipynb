{
 "cells": [
  {
   "cell_type": "code",
   "execution_count": 4,
   "metadata": {},
   "outputs": [
    {
     "data": {
      "text/html": [
       "<div>\n",
       "<style scoped>\n",
       "    .dataframe tbody tr th:only-of-type {\n",
       "        vertical-align: middle;\n",
       "    }\n",
       "\n",
       "    .dataframe tbody tr th {\n",
       "        vertical-align: top;\n",
       "    }\n",
       "\n",
       "    .dataframe thead th {\n",
       "        text-align: right;\n",
       "    }\n",
       "</style>\n",
       "<table border=\"1\" class=\"dataframe\">\n",
       "  <thead>\n",
       "    <tr style=\"text-align: right;\">\n",
       "      <th></th>\n",
       "      <th>sex</th>\n",
       "      <th>time</th>\n",
       "      <th>start_time</th>\n",
       "      <th>end_time</th>\n",
       "      <th>value</th>\n",
       "      <th>setting</th>\n",
       "      <th>all drugs</th>\n",
       "      <th>all opioids</th>\n",
       "      <th>stimulants</th>\n",
       "      <th>cannabis</th>\n",
       "      <th>benzodiazepine</th>\n",
       "    </tr>\n",
       "  </thead>\n",
       "  <tbody>\n",
       "    <tr>\n",
       "      <th>0</th>\n",
       "      <td>female</td>\n",
       "      <td>1</td>\n",
       "      <td>01/01/2020</td>\n",
       "      <td>01/31/2020</td>\n",
       "      <td>38478.0</td>\n",
       "      <td>ip</td>\n",
       "      <td>4812.0</td>\n",
       "      <td>583.0</td>\n",
       "      <td>230.0</td>\n",
       "      <td>303.0</td>\n",
       "      <td>91.0</td>\n",
       "    </tr>\n",
       "    <tr>\n",
       "      <th>1</th>\n",
       "      <td>female</td>\n",
       "      <td>1</td>\n",
       "      <td>01/01/2020</td>\n",
       "      <td>01/31/2020</td>\n",
       "      <td>124275.0</td>\n",
       "      <td>ed</td>\n",
       "      <td>18839.0</td>\n",
       "      <td>767.0</td>\n",
       "      <td>580.0</td>\n",
       "      <td>1116.0</td>\n",
       "      <td>151.0</td>\n",
       "    </tr>\n",
       "    <tr>\n",
       "      <th>2</th>\n",
       "      <td>male</td>\n",
       "      <td>1</td>\n",
       "      <td>01/01/2020</td>\n",
       "      <td>01/31/2020</td>\n",
       "      <td>38478.0</td>\n",
       "      <td>ip</td>\n",
       "      <td>5482.0</td>\n",
       "      <td>778.0</td>\n",
       "      <td>537.0</td>\n",
       "      <td>446.0</td>\n",
       "      <td>154.0</td>\n",
       "    </tr>\n",
       "    <tr>\n",
       "      <th>3</th>\n",
       "      <td>male</td>\n",
       "      <td>1</td>\n",
       "      <td>01/01/2020</td>\n",
       "      <td>01/31/2020</td>\n",
       "      <td>124275.0</td>\n",
       "      <td>ed</td>\n",
       "      <td>18367.0</td>\n",
       "      <td>1304.0</td>\n",
       "      <td>1181.0</td>\n",
       "      <td>1641.0</td>\n",
       "      <td>291.0</td>\n",
       "    </tr>\n",
       "    <tr>\n",
       "      <th>4</th>\n",
       "      <td>female</td>\n",
       "      <td>2</td>\n",
       "      <td>02/01/2020</td>\n",
       "      <td>02/29/2020</td>\n",
       "      <td>35754.0</td>\n",
       "      <td>ip</td>\n",
       "      <td>4659.0</td>\n",
       "      <td>630.0</td>\n",
       "      <td>236.0</td>\n",
       "      <td>280.0</td>\n",
       "      <td>99.0</td>\n",
       "    </tr>\n",
       "  </tbody>\n",
       "</table>\n",
       "</div>"
      ],
      "text/plain": [
       "      sex  time  start_time    end_time     value setting  all drugs  \\\n",
       "0  female     1  01/01/2020  01/31/2020   38478.0      ip     4812.0   \n",
       "1  female     1  01/01/2020  01/31/2020  124275.0      ed    18839.0   \n",
       "2    male     1  01/01/2020  01/31/2020   38478.0      ip     5482.0   \n",
       "3    male     1  01/01/2020  01/31/2020  124275.0      ed    18367.0   \n",
       "4  female     2  02/01/2020  02/29/2020   35754.0      ip     4659.0   \n",
       "\n",
       "   all opioids  stimulants  cannabis  benzodiazepine  \n",
       "0        583.0       230.0     303.0            91.0  \n",
       "1        767.0       580.0    1116.0           151.0  \n",
       "2        778.0       537.0     446.0           154.0  \n",
       "3       1304.0      1181.0    1641.0           291.0  \n",
       "4        630.0       236.0     280.0            99.0  "
      ]
     },
     "execution_count": 4,
     "metadata": {},
     "output_type": "execute_result"
    }
   ],
   "source": [
    "import pandas as pd\n",
    "import numpy as np\n",
    "import matplotlib.pyplot as plt\n",
    "import seaborn as sns\n",
    "import scipy.stats as stats\n",
    "\n",
    "\n",
    "# from src.helpers import multivariant_analysis, load_csv\n",
    "\n",
    "\n",
    "FILENAME = \"drug_sex_values.csv\"\n",
    "filepath = f\"../data/{FILENAME}\"\n",
    "drug_sex_df = pd.read_csv(filepath)\n",
    "drug_sex_df.head()"
   ]
  },
  {
   "cell_type": "code",
   "execution_count": 9,
   "metadata": {},
   "outputs": [
    {
     "name": "stdout",
     "output_type": "stream",
     "text": [
      "\n",
      "'Sex' vs 'Setting'\n",
      "Chi-Square statistic = 0.0\n",
      "p-value = 1.0\n",
      "Degrees of freedom = 1\n"
     ]
    }
   ],
   "source": [
    "\n",
    "# Chi-Square test for independence between \"sex\" and \"setting\"\n",
    "contingency_table_sex_setting = pd.crosstab(drug_sex_df['sex'], drug_sex_df['setting'])\n",
    "\n",
    "chi2, p, dof, ex = chi2_contingency(contingency_table_sex_setting)\n",
    "\n",
    "print(f\"\\n'Sex' vs 'Setting'\")\n",
    "print(f\"Chi-Square statistic = {chi2}\")\n",
    "print(f\"p-value = {p}\")\n",
    "print(f\"Degrees of freedom = {dof}\")"
   ]
  },
  {
   "attachments": {},
   "cell_type": "markdown",
   "metadata": {},
   "source": [
    "The p-value in your test is 1.0, which is greater than the common alpha level of 0.05. Therefore, we do not reject the null hypothesis. The null hypothesis for this test is that 'Sex' and 'Setting' are independent.\n",
    "\n",
    "The p-value of 1.0 also indicates that there is extremely strong evidence that you would get the observed data assuming that 'Sex' and 'Setting' are independent. \n",
    "\n",
    "In conclusion, based on this Chi-Square test result, 'Sex' and 'Setting' are likely independent; changing one probably does not affect the other. This, of course, is based solely on the present statistical test, and might not incorporate other factors not included within the scope of this test. Also, please ensure that your data met necessary assumptions for conducting a Chi-Square test."
   ]
  },
  {
   "cell_type": "code",
   "execution_count": 18,
   "metadata": {},
   "outputs": [
    {
     "name": "stdout",
     "output_type": "stream",
     "text": [
      "'Setting' vs 'All Drugs Category'\n",
      "Chi-Square statistic = 159.2\n",
      "p-value = 2.6925218759599116e-35\n",
      "Degrees of freedom = 2\n"
     ]
    }
   ],
   "source": [
    "# Convert the 'all drugs' column to categories\n",
    "drug_sex_df['all_drugs_cat'] = pd.cut(drug_sex_df['all drugs'], bins=[-np.inf, 5000, 10000, np.inf], labels=['Low', 'Medium', 'High'])\n",
    "\n",
    "# Create a cross-tabulation of the two columns\n",
    "contingency_table = pd.crosstab(drug_sex_df['setting'], drug_sex_df['all_drugs_cat'])\n",
    "\n",
    "# Perform the Chi-Square test\n",
    "chi2, p, dof, ex = chi2_contingency(contingency_table)\n",
    "\n",
    "print(f\"'Setting' vs 'All Drugs Category'\")\n",
    "print(f\"Chi-Square statistic = {chi2}\")\n",
    "print(f\"p-value = {p}\")\n",
    "print(f\"Degrees of freedom = {dof}\")"
   ]
  },
  {
   "attachments": {},
   "cell_type": "markdown",
   "metadata": {},
   "source": [
    "The Chi-Square statistic is a measure of how much observed frequencies deviate from the frequencies expected under the null hypothesis, which postulates that the categorical variables are independent. \n",
    "\n",
    "In your case, a Chi-Square statistic of 159.2 suggests a notable level of divergence between what's observed and what's expected if drugs category and setting were independent.\n",
    "\n",
    "The p-value is an extremely small number (approximately 2.69 x 10^-35), which is much less than 0.05. In statistical tests, a common threshold for significance is 0.05, and if the p-value is below this value, you reject the null hypothesis.\n",
    "\n",
    "Therefore, based on these test results, we reject the null hypothesis that the type of setting and the category of all drug use are independent. There's extremely strong evidence from your data to suggest that the two variables are associated or dependent in some way.\n",
    "\n",
    "The degree of freedom is 2, calculated from (number of rows - 1) x (number of columns - 1) in your contingency tables.\n",
    "\n",
    "In this statistical test context, having found a significant association does not imply causality. It does not state that changes in setting cause changes in drug use category, or vice versa. However, it does suggest that"
   ]
  },
  {
   "cell_type": "code",
   "execution_count": 20,
   "metadata": {},
   "outputs": [
    {
     "name": "stdout",
     "output_type": "stream",
     "text": [
      "\n",
      "'Sex' vs 'all opioids Category'\n",
      "Chi-Square statistic = 56.73737373737374\n",
      "p-value = 4.782289182019959e-13\n",
      "Degrees of freedom = 2\n",
      "\n",
      "'Sex' vs 'stimulants Category'\n",
      "Chi-Square statistic = 52.36036036036036\n",
      "p-value = 4.266701028366233e-12\n",
      "Degrees of freedom = 2\n",
      "\n",
      "'Sex' vs 'benzodiazepine Category'\n",
      "Chi-Square statistic = 0.0\n",
      "p-value = 1.0\n",
      "Degrees of freedom = 0\n",
      "\n",
      "'Sex' vs 'all drugs Category'\n",
      "Chi-Square statistic = 0.0\n",
      "p-value = 1.0\n",
      "Degrees of freedom = 0\n",
      "\n",
      "'Sex' vs 'cannabis Category'\n",
      "Chi-Square statistic = 7.9781818181818185\n",
      "p-value = 0.01851653968857337\n",
      "Degrees of freedom = 2\n"
     ]
    }
   ],
   "source": [
    "import numpy as np  \n",
    "\n",
    "# Define the bin edges and labels\n",
    "edges = [-np.inf, 500, 1000, np.inf]\n",
    "labels=['Low', 'Medium', 'High']\n",
    "\n",
    "# Define the columns to analyze\n",
    "columns = ['all opioids', 'stimulants', 'cannabis', 'benzodiazepine', 'all drugs']\n",
    "\n",
    "for col in columns:\n",
    "    # Create the categorical variables\n",
    "    drug_sex_df[f'{col}_cat'] = pd.cut(drug_sex_df[col], bins=edges, labels=labels)\n",
    "\n",
    "    # Create a cross-tabulation of the two columns\n",
    "    contingency_table = pd.crosstab(drug_sex_df['sex'], drug_sex_df[f'{col}_cat'])\n",
    "\n",
    "    # Perform the Chi-Square test\n",
    "    chi2, p, dof, ex = chi2_contingency(contingency_table)\n",
    "\n",
    "    print(f\"\\n'Sex' vs '{col} Category'\")\n",
    "    print(f\"Chi-Square statistic = {chi2}\")\n",
    "    print(f\"p-value = {p}\")\n",
    "    print(f\"Degrees of freedom = {dof}\")"
   ]
  },
  {
   "cell_type": "code",
   "execution_count": null,
   "metadata": {},
   "outputs": [],
   "source": []
  },
  {
   "attachments": {},
   "cell_type": "markdown",
   "metadata": {},
   "source": [
    "**'Sex' vs 'all opioids Category'**\n",
    "Chi-square statistic of 56.74 and a p-value close to zero suggest that there is a very strong association between sex and opioid use category. We reject the null hypothesis that these two variables are independent. This finding is statistically significant.\n",
    "\n",
    "**'Sex' vs 'stimulants Category'**\n",
    "Similarly, a chi-square statistic of 52.36 and a near-zero p-value indicate that sex and the use of stimulant drugs are strongly associated. We reject the null hypothesis of independence. This is also statistically significant.\n",
    "\n",
    "**'Sex' vs 'cannabis Category'**\n",
    "A chi-square statistic of 7.98 and a p-value of 0.0185 suggest that there is some association between sex and cannabis use category. The p-value is less than 0.05, meaning the result is statistically significant, but the association may not be as strong as in the previous tests.\n",
    "\n",
    "**'Sex' vs 'benzodiazepine Category'**\n",
    "A chi-square statistic of 0 and a p-value of 1 suggest that there is perfect alignment between what is observed and what is expected if the use of benzodiazepine and sex were independent. Thus, we fail to reject the null hypothesis, indicating no evidence of an association between sex and benzodiazepine use in your data.\n",
    "\n",
    "**'Sex' vs 'all drugs Category'**\n",
    "Similarly, a chi-square statistic of 0 and a p-value of 1 show perfect alignment between observed and expected if there was no association between sex and all-drugs use category. Again, we fail to reject the null hypothesis, indicating that there's no strong evidence in your data to suggest an association between sex and all drugs category."
   ]
  },
  {
   "cell_type": "code",
   "execution_count": null,
   "metadata": {},
   "outputs": [],
   "source": []
  },
  {
   "cell_type": "code",
   "execution_count": null,
   "metadata": {},
   "outputs": [],
   "source": []
  }
 ],
 "metadata": {
  "kernelspec": {
   "display_name": "Python 3 (ipykernel)",
   "language": "python",
   "name": "python3"
  },
  "language_info": {
   "codemirror_mode": {
    "name": "ipython",
    "version": 3
   },
   "file_extension": ".py",
   "mimetype": "text/x-python",
   "name": "python",
   "nbconvert_exporter": "python",
   "pygments_lexer": "ipython3",
   "version": "3.11.4"
  },
  "orig_nbformat": 4
 },
 "nbformat": 4,
 "nbformat_minor": 2
}
