{
 "cells": [
  {
   "cell_type": "code",
   "execution_count": 1,
   "metadata": {},
   "outputs": [
    {
     "data": {
      "text/html": [
       "<div>\n",
       "<style scoped>\n",
       "    .dataframe tbody tr th:only-of-type {\n",
       "        vertical-align: middle;\n",
       "    }\n",
       "\n",
       "    .dataframe tbody tr th {\n",
       "        vertical-align: top;\n",
       "    }\n",
       "\n",
       "    .dataframe thead th {\n",
       "        text-align: right;\n",
       "    }\n",
       "</style>\n",
       "<table border=\"1\" class=\"dataframe\">\n",
       "  <thead>\n",
       "    <tr style=\"text-align: right;\">\n",
       "      <th></th>\n",
       "      <th>sex</th>\n",
       "      <th>time</th>\n",
       "      <th>start_time</th>\n",
       "      <th>end_time</th>\n",
       "      <th>setting</th>\n",
       "      <th>all drugs</th>\n",
       "      <th>all opioids</th>\n",
       "      <th>stimulants</th>\n",
       "      <th>cannabis</th>\n",
       "      <th>benzodiazepine</th>\n",
       "    </tr>\n",
       "  </thead>\n",
       "  <tbody>\n",
       "    <tr>\n",
       "      <th>0</th>\n",
       "      <td>female</td>\n",
       "      <td>1</td>\n",
       "      <td>2020-01-01</td>\n",
       "      <td>2020-01-31</td>\n",
       "      <td>In Patient</td>\n",
       "      <td>4812.0</td>\n",
       "      <td>583.0</td>\n",
       "      <td>230.0</td>\n",
       "      <td>303.0</td>\n",
       "      <td>91.0</td>\n",
       "    </tr>\n",
       "    <tr>\n",
       "      <th>1</th>\n",
       "      <td>female</td>\n",
       "      <td>1</td>\n",
       "      <td>2020-01-01</td>\n",
       "      <td>2020-01-31</td>\n",
       "      <td>Emergency Department</td>\n",
       "      <td>18839.0</td>\n",
       "      <td>767.0</td>\n",
       "      <td>580.0</td>\n",
       "      <td>1116.0</td>\n",
       "      <td>151.0</td>\n",
       "    </tr>\n",
       "    <tr>\n",
       "      <th>2</th>\n",
       "      <td>male</td>\n",
       "      <td>1</td>\n",
       "      <td>2020-01-01</td>\n",
       "      <td>2020-01-31</td>\n",
       "      <td>In Patient</td>\n",
       "      <td>5482.0</td>\n",
       "      <td>778.0</td>\n",
       "      <td>537.0</td>\n",
       "      <td>446.0</td>\n",
       "      <td>154.0</td>\n",
       "    </tr>\n",
       "    <tr>\n",
       "      <th>3</th>\n",
       "      <td>male</td>\n",
       "      <td>1</td>\n",
       "      <td>2020-01-01</td>\n",
       "      <td>2020-01-31</td>\n",
       "      <td>Emergency Department</td>\n",
       "      <td>18367.0</td>\n",
       "      <td>1304.0</td>\n",
       "      <td>1181.0</td>\n",
       "      <td>1641.0</td>\n",
       "      <td>291.0</td>\n",
       "    </tr>\n",
       "    <tr>\n",
       "      <th>4</th>\n",
       "      <td>female</td>\n",
       "      <td>2</td>\n",
       "      <td>2020-02-01</td>\n",
       "      <td>2020-02-29</td>\n",
       "      <td>In Patient</td>\n",
       "      <td>4659.0</td>\n",
       "      <td>630.0</td>\n",
       "      <td>236.0</td>\n",
       "      <td>280.0</td>\n",
       "      <td>99.0</td>\n",
       "    </tr>\n",
       "  </tbody>\n",
       "</table>\n",
       "</div>"
      ],
      "text/plain": [
       "      sex  time  start_time    end_time               setting  all drugs  \\\n",
       "0  female     1  2020-01-01  2020-01-31            In Patient     4812.0   \n",
       "1  female     1  2020-01-01  2020-01-31  Emergency Department    18839.0   \n",
       "2    male     1  2020-01-01  2020-01-31            In Patient     5482.0   \n",
       "3    male     1  2020-01-01  2020-01-31  Emergency Department    18367.0   \n",
       "4  female     2  2020-02-01  2020-02-29            In Patient     4659.0   \n",
       "\n",
       "   all opioids  stimulants  cannabis  benzodiazepine  \n",
       "0        583.0       230.0     303.0            91.0  \n",
       "1        767.0       580.0    1116.0           151.0  \n",
       "2        778.0       537.0     446.0           154.0  \n",
       "3       1304.0      1181.0    1641.0           291.0  \n",
       "4        630.0       236.0     280.0            99.0  "
      ]
     },
     "execution_count": 1,
     "metadata": {},
     "output_type": "execute_result"
    }
   ],
   "source": [
    "import matplotlib.pyplot as plt\n",
    "import seaborn as sns\n",
    "import pandas as pd\n",
    "\n",
    "FILENAME = \"drug_sex_values.csv\"\n",
    "filepath = f\"../data/{FILENAME}\"\n",
    "\n",
    "drug_sex_df = pd.read_csv(filepath)\n",
    "drug_sex_df.head()"
   ]
  },
  {
   "cell_type": "code",
   "execution_count": 2,
   "metadata": {},
   "outputs": [
    {
     "name": "stdout",
     "output_type": "stream",
     "text": [
      "t statistic: -47.28032993787939\n",
      "p-value: 1.0539363110730132e-96\n"
     ]
    }
   ],
   "source": [
    "from scipy import stats\n",
    "\n",
    "# Create two groups of data\n",
    "in_patient = drug_sex_df[drug_sex_df['setting'] == 'In Patient']['all drugs']\n",
    "emergency_department = drug_sex_df[drug_sex_df['setting'] == 'Emergency Department']['all drugs']\n",
    "\n",
    "# Perform t-test\n",
    "t_stat, p_val = stats.ttest_ind(in_patient, emergency_department)\n",
    "\n",
    "print(\"t statistic:\", t_stat)\n",
    "print(\"p-value:\", p_val)"
   ]
  },
  {
   "attachments": {},
   "cell_type": "markdown",
   "metadata": {},
   "source": [
    "The t statistic of -47.28 tells us that the difference between the means of the two groups is quite large relative to the variation within the groups. The negative sign indicates that the mean of the first group (In Patient) is smaller than the mean of the second group (Emergency Department).\n",
    "\n",
    "The p-value is extremely small, far less than 0.05, which is often used as a threshold for statistical significance. This tells us that the difference in means between the two groups would be very unlikely if the true difference in population means were zero (the null hypothesis). \n",
    "\n",
    "So, we reject the null hypothesis and conclude that there is a statistically significant difference in drug use between the In Patient setting and the Emergency Department setting. The Emergency Department setting has a significantly higher mean drug use than the In Patient setting according to this dataset."
   ]
  },
  {
   "cell_type": "code",
   "execution_count": 4,
   "metadata": {},
   "outputs": [
    {
     "name": "stdout",
     "output_type": "stream",
     "text": [
      "t statistic: 0.30720173144992186\n",
      "p-value: 0.7590843742191118\n"
     ]
    }
   ],
   "source": [
    "# Create two groups of data\n",
    "in_patient = drug_sex_df[drug_sex_df['sex'] == 'male']['all drugs']\n",
    "emergency_department = drug_sex_df[drug_sex_df['sex'] == 'female']['all drugs']\n",
    "\n",
    "# Perform t-test\n",
    "t_stat, p_val = stats.ttest_ind(in_patient, emergency_department)\n",
    "\n",
    "print(\"t statistic:\", t_stat)\n",
    "print(\"p-value:\", p_val)"
   ]
  },
  {
   "attachments": {},
   "cell_type": "markdown",
   "metadata": {},
   "source": [
    "The t statistic and p-value are the results of a t-test comparing drug use between the male and female groups within the dataset.\n",
    "\n",
    "The t statistic of 0.307 tells us that the difference between the means of the two groups is small relative to the variation within the groups.\n",
    "\n",
    "The p-value is fairly large, at about 0.759. As this value is well above the typically used threshold of 0.05, we fail to reject the null hypothesis and conclude that there is not a significant difference in drug use between males and females within your dataset (at least, not one we can detect with a t-test).\n",
    "\n",
    "Based on this t-test, gender does not appear to have a significant impact on drug use. "
   ]
  }
 ],
 "metadata": {
  "kernelspec": {
   "display_name": "Python 3 (ipykernel)",
   "language": "python",
   "name": "python3"
  },
  "language_info": {
   "codemirror_mode": {
    "name": "ipython",
    "version": 3
   },
   "file_extension": ".py",
   "mimetype": "text/x-python",
   "name": "python",
   "nbconvert_exporter": "python",
   "pygments_lexer": "ipython3",
   "version": "3.11.4"
  },
  "orig_nbformat": 4
 },
 "nbformat": 4,
 "nbformat_minor": 2
}
