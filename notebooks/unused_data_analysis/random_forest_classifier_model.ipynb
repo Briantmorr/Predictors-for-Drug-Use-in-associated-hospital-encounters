{
 "cells": [
  {
   "cell_type": "code",
   "execution_count": 2,
   "metadata": {},
   "outputs": [
    {
     "data": {
      "text/html": [
       "<div>\n",
       "<style scoped>\n",
       "    .dataframe tbody tr th:only-of-type {\n",
       "        vertical-align: middle;\n",
       "    }\n",
       "\n",
       "    .dataframe tbody tr th {\n",
       "        vertical-align: top;\n",
       "    }\n",
       "\n",
       "    .dataframe thead th {\n",
       "        text-align: right;\n",
       "    }\n",
       "</style>\n",
       "<table border=\"1\" class=\"dataframe\">\n",
       "  <thead>\n",
       "    <tr style=\"text-align: right;\">\n",
       "      <th></th>\n",
       "      <th>sex</th>\n",
       "      <th>time</th>\n",
       "      <th>start_time</th>\n",
       "      <th>end_time</th>\n",
       "      <th>setting</th>\n",
       "      <th>all drugs</th>\n",
       "      <th>all opioids</th>\n",
       "      <th>stimulants</th>\n",
       "      <th>cannabis</th>\n",
       "      <th>benzodiazepine</th>\n",
       "    </tr>\n",
       "  </thead>\n",
       "  <tbody>\n",
       "    <tr>\n",
       "      <th>0</th>\n",
       "      <td>female</td>\n",
       "      <td>1</td>\n",
       "      <td>2020-01-01</td>\n",
       "      <td>2020-01-31</td>\n",
       "      <td>In Patient</td>\n",
       "      <td>4812.0</td>\n",
       "      <td>583.0</td>\n",
       "      <td>230.0</td>\n",
       "      <td>303.0</td>\n",
       "      <td>91.0</td>\n",
       "    </tr>\n",
       "    <tr>\n",
       "      <th>1</th>\n",
       "      <td>female</td>\n",
       "      <td>1</td>\n",
       "      <td>2020-01-01</td>\n",
       "      <td>2020-01-31</td>\n",
       "      <td>Emergency Department</td>\n",
       "      <td>18839.0</td>\n",
       "      <td>767.0</td>\n",
       "      <td>580.0</td>\n",
       "      <td>1116.0</td>\n",
       "      <td>151.0</td>\n",
       "    </tr>\n",
       "    <tr>\n",
       "      <th>2</th>\n",
       "      <td>male</td>\n",
       "      <td>1</td>\n",
       "      <td>2020-01-01</td>\n",
       "      <td>2020-01-31</td>\n",
       "      <td>In Patient</td>\n",
       "      <td>5482.0</td>\n",
       "      <td>778.0</td>\n",
       "      <td>537.0</td>\n",
       "      <td>446.0</td>\n",
       "      <td>154.0</td>\n",
       "    </tr>\n",
       "    <tr>\n",
       "      <th>3</th>\n",
       "      <td>male</td>\n",
       "      <td>1</td>\n",
       "      <td>2020-01-01</td>\n",
       "      <td>2020-01-31</td>\n",
       "      <td>Emergency Department</td>\n",
       "      <td>18367.0</td>\n",
       "      <td>1304.0</td>\n",
       "      <td>1181.0</td>\n",
       "      <td>1641.0</td>\n",
       "      <td>291.0</td>\n",
       "    </tr>\n",
       "    <tr>\n",
       "      <th>4</th>\n",
       "      <td>female</td>\n",
       "      <td>2</td>\n",
       "      <td>2020-02-01</td>\n",
       "      <td>2020-02-29</td>\n",
       "      <td>In Patient</td>\n",
       "      <td>4659.0</td>\n",
       "      <td>630.0</td>\n",
       "      <td>236.0</td>\n",
       "      <td>280.0</td>\n",
       "      <td>99.0</td>\n",
       "    </tr>\n",
       "  </tbody>\n",
       "</table>\n",
       "</div>"
      ],
      "text/plain": [
       "      sex  time  start_time    end_time               setting  all drugs  \\\n",
       "0  female     1  2020-01-01  2020-01-31            In Patient     4812.0   \n",
       "1  female     1  2020-01-01  2020-01-31  Emergency Department    18839.0   \n",
       "2    male     1  2020-01-01  2020-01-31            In Patient     5482.0   \n",
       "3    male     1  2020-01-01  2020-01-31  Emergency Department    18367.0   \n",
       "4  female     2  2020-02-01  2020-02-29            In Patient     4659.0   \n",
       "\n",
       "   all opioids  stimulants  cannabis  benzodiazepine  \n",
       "0        583.0       230.0     303.0            91.0  \n",
       "1        767.0       580.0    1116.0           151.0  \n",
       "2        778.0       537.0     446.0           154.0  \n",
       "3       1304.0      1181.0    1641.0           291.0  \n",
       "4        630.0       236.0     280.0            99.0  "
      ]
     },
     "execution_count": 2,
     "metadata": {},
     "output_type": "execute_result"
    }
   ],
   "source": [
    "import matplotlib.pyplot as plt\n",
    "import seaborn as sns\n",
    "import pandas as pd\n",
    "\n",
    "FILENAME = \"drug_sex_values.csv\"\n",
    "filepath = f\"../data/{FILENAME}\"\n",
    "\n",
    "drug_sex_df = pd.read_csv(filepath)\n",
    "drug_sex_df.head()"
   ]
  },
  {
   "cell_type": "code",
   "execution_count": 3,
   "metadata": {},
   "outputs": [
    {
     "name": "stdout",
     "output_type": "stream",
     "text": [
      "Accuracy Score:  1.0\n",
      "Confusion Matrix: \n",
      " [[14  0]\n",
      " [ 0 19]]\n"
     ]
    }
   ],
   "source": [
    "from sklearn.model_selection import train_test_split\n",
    "from sklearn.ensemble import RandomForestClassifier\n",
    "from sklearn.preprocessing import LabelEncoder\n",
    "from sklearn.metrics import accuracy_score, confusion_matrix\n",
    "\n",
    "# Assuming df is your DataFrame\n",
    "\n",
    "# First we'll need to convert 'setting' to numeric because sklearn requires numeric inputs\n",
    "# We can use LabelEncoder for this\n",
    "encoder = LabelEncoder()\n",
    "drug_sex_df['setting_encoded'] = encoder.fit_transform(drug_sex_df['setting'])\n",
    "\n",
    "# Assign the features to X and the target to y\n",
    "X = drug_sex_df[['all drugs']]\n",
    "y = drug_sex_df['setting_encoded']\n",
    "\n",
    "# Split the data to train and test sets\n",
    "X_train, X_test, y_train, y_test = train_test_split(X, y, test_size=0.2) \n",
    "\n",
    "# Initialize the Random Forest Classifier and fit the model\n",
    "clf = RandomForestClassifier(n_estimators=100)\n",
    "clf.fit(X_train, y_train)\n",
    "\n",
    "# Predict on the test set\n",
    "y_pred = clf.predict(X_test)\n",
    "\n",
    "# Print the accuracy score and the confusion matrix\n",
    "print('Accuracy Score: ', accuracy_score(y_test, y_pred))\n",
    "print('Confusion Matrix: \\n', confusion_matrix(y_test, y_pred))"
   ]
  },
  {
   "attachments": {},
   "cell_type": "markdown",
   "metadata": {},
   "source": [
    "Once we have trained ou model, we can use it to predict the `setting` for new unseen `all drugs` data. Let's say we have a new data point for `all drugs` and we want to predict whether the setting would be \"In Patient\" or \"Emergency Department\": "
   ]
  },
  {
   "cell_type": "code",
   "execution_count": 10,
   "metadata": {},
   "outputs": [
    {
     "name": "stdout",
     "output_type": "stream",
     "text": [
      "Predicted setting (most likely ip):  ['In Patient']\n",
      "Predicted setting (most likely ed):  ['Emergency Department']\n"
     ]
    },
    {
     "name": "stderr",
     "output_type": "stream",
     "text": [
      "/Users/williamkencel/anaconda3/lib/python3.11/site-packages/sklearn/base.py:464: UserWarning: X does not have valid feature names, but RandomForestClassifier was fitted with feature names\n",
      "  warnings.warn(\n",
      "/Users/williamkencel/anaconda3/lib/python3.11/site-packages/sklearn/base.py:464: UserWarning: X does not have valid feature names, but RandomForestClassifier was fitted with feature names\n",
      "  warnings.warn(\n"
     ]
    }
   ],
   "source": [
    "# mock a high score as ed data\n",
    "# this is because it will most likely be emergency department\n",
    "mock_ed_data = [[7000]]\n",
    "\n",
    "# mock a low score as ip data\n",
    "# this is because it will most likely be in patient\n",
    "mock_ip_data = [[2500]]\n",
    "\n",
    "# make a prediction\n",
    "new_pred_ed = clf.predict(mock_ed_data)\n",
    "new_pred_ip = clf.predict(mock_ip_data)\n",
    "\n",
    "# print the predicted setting, remember to transform back the label into original one\n",
    "print('Predicted setting (most likely ed): ', encoder.inverse_transform(new_pred_ed))\n",
    "print('Predicted setting (most likely ip): ', encoder.inverse_transform(new_pred_ip))"
   ]
  },
  {
   "cell_type": "code",
   "execution_count": null,
   "metadata": {},
   "outputs": [],
   "source": []
  },
  {
   "cell_type": "code",
   "execution_count": null,
   "metadata": {},
   "outputs": [],
   "source": []
  },
  {
   "cell_type": "code",
   "execution_count": null,
   "metadata": {},
   "outputs": [],
   "source": []
  },
  {
   "attachments": {},
   "cell_type": "markdown",
   "metadata": {},
   "source": [
    " the Random Forest model only gives you a predicted outcome based on the patterns it learned from the training data. It does not take into account any causal relationships between the features and the target, and the prediction accuracy can greatly vary depending on the quality and representativeness of your training data.\n",
    " "
   ]
  }
 ],
 "metadata": {
  "kernelspec": {
   "display_name": "Python 3 (ipykernel)",
   "language": "python",
   "name": "python3"
  },
  "language_info": {
   "codemirror_mode": {
    "name": "ipython",
    "version": 3
   },
   "file_extension": ".py",
   "mimetype": "text/x-python",
   "name": "python",
   "nbconvert_exporter": "python",
   "pygments_lexer": "ipython3",
   "version": "3.11.4"
  },
  "orig_nbformat": 4
 },
 "nbformat": 4,
 "nbformat_minor": 2
}
